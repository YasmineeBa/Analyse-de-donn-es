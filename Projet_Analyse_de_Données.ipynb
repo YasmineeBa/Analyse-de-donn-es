{
  "nbformat": 4,
  "nbformat_minor": 0,
  "metadata": {
    "colab": {
      "provenance": [],
      "include_colab_link": true
    },
    "kernelspec": {
      "name": "python3",
      "display_name": "Python 3"
    },
    "language_info": {
      "name": "python"
    }
  },
  "cells": [
    {
      "cell_type": "markdown",
      "metadata": {
        "id": "view-in-github",
        "colab_type": "text"
      },
      "source": [
        "<a href=\"https://colab.research.google.com/github/YasmineeBa/Analyse-de-donn-es/blob/main/Projet_Analyse_de_Donn%C3%A9es.ipynb\" target=\"_parent\"><img src=\"https://colab.research.google.com/assets/colab-badge.svg\" alt=\"Open In Colab\"/></a>"
      ]
    },
    {
      "cell_type": "markdown",
      "source": [
        "# PROJET ANAD\n"
      ],
      "metadata": {
        "id": "EC7E-ujIYRSi"
      }
    },
    {
      "cell_type": "markdown",
      "source": [
        "# Il s’agit d’étudier la relation existante entre l’orientation des enfants après le bac et la situation sociale professionnelle des parents. Une petite enquête a été menue auprès de quelques bacheliers et les résultats obtenus sont donnés par le tableau suivant :\n",
        "# Les disciplines (Dis) en question sont données en abrégé comme suit :\n",
        "\n",
        "\n",
        "\n",
        "* Mathématiques : Maths\n",
        "* Psychologie : Psy\n",
        "* Physique : Phy\n",
        "* Génie mécanique : G. M\n",
        "* Droit : Drt\n",
        "* Informatique : Inf\n",
        "* Lettres : Letr\n",
        "* Biologie : Bio\n",
        "\n",
        "\n",
        "# Ce Projet a été réalisé par :\n",
        "* BAROUD Yasmine\n"
      ],
      "metadata": {
        "id": "5aQEg7YV4B9U"
      }
    },
    {
      "cell_type": "code",
      "source": [
        "import numpy as np\n",
        "import matplotlib.pyplot as plt\n",
        "import seaborn as sns\n",
        "from numpy import linalg as LA\n",
        "from tabulate import tabulate"
      ],
      "metadata": {
        "id": "2zBe01BVZ3fX"
      },
      "execution_count": null,
      "outputs": []
    },
    {
      "cell_type": "code",
      "source": [
        "K = np.array([\n",
        "          [236, 264 ,281, 56 ,99, 493 ,87, 36],\n",
        "          [305, 247, 301, 47, 115, 624 ,90, 42],\n",
        "          [145, 133, 135, 30, 52, 281, 54, 20],\n",
        "          [470, 400, 876, 16, 74, 312, 62, 21],\n",
        "          [80, 99, 65, 28, 36, 134, 58, 11],\n",
        "          [168, 137, 208, 53, 74, 312, 62, 21],\n",
        "          [16, 11, 8, 2, 6, 27, 8, 2],\n",
        "          [6, 6, 4, 1, 2, 15, 4, 1],\n",
        "          [126, 193, 127 ,23, 64, 401, 129, 28]\n",
        "          ])\n",
        "\n",
        "print('\\tmatrice de contingences \\n')\n",
        "K"
      ],
      "metadata": {
        "colab": {
          "base_uri": "https://localhost:8080/"
        },
        "id": "iid--ng0YTvt",
        "outputId": "2bd43e45-136d-4f63-c805-815a055cfba5"
      },
      "execution_count": null,
      "outputs": [
        {
          "output_type": "stream",
          "name": "stdout",
          "text": [
            "\tmatrice de contingences \n",
            "\n"
          ]
        },
        {
          "output_type": "execute_result",
          "data": {
            "text/plain": [
              "array([[236, 264, 281,  56,  99, 493,  87,  36],\n",
              "       [305, 247, 301,  47, 115, 624,  90,  42],\n",
              "       [145, 133, 135,  30,  52, 281,  54,  20],\n",
              "       [470, 400, 876,  16,  74, 312,  62,  21],\n",
              "       [ 80,  99,  65,  28,  36, 134,  58,  11],\n",
              "       [168, 137, 208,  53,  74, 312,  62,  21],\n",
              "       [ 16,  11,   8,   2,   6,  27,   8,   2],\n",
              "       [  6,   6,   4,   1,   2,  15,   4,   1],\n",
              "       [126, 193, 127,  23,  64, 401, 129,  28]])"
            ]
          },
          "metadata": {},
          "execution_count": 2
        }
      ]
    },
    {
      "cell_type": "code",
      "source": [
        "print(\"Dimensions de la matrice K = \",K.shape)"
      ],
      "metadata": {
        "colab": {
          "base_uri": "https://localhost:8080/"
        },
        "id": "-Ix1NoNlbpBj",
        "outputId": "d73e6916-d864-4d9e-80eb-467876ef3ca9"
      },
      "execution_count": null,
      "outputs": [
        {
          "output_type": "stream",
          "name": "stdout",
          "text": [
            "Dimensions de la matrice K =  (9, 8)\n"
          ]
        }
      ]
    },
    {
      "cell_type": "markdown",
      "source": [
        "1) Déterminer et afficher les matrices des profils lignes et colonnes."
      ],
      "metadata": {
        "id": "K2SX1vymat-Q"
      }
    },
    {
      "cell_type": "markdown",
      "source": [
        "* d'abord determiner la matrice des fréquences relatives"
      ],
      "metadata": {
        "id": "Qu-2j6JAcicN"
      }
    },
    {
      "cell_type": "code",
      "source": [
        "\n",
        "def matrice_frequence_relative(m):\n",
        "\n",
        "  matrix_freqrel = np.zeros(m.shape)\n",
        "  for i in range(len(m)):\n",
        "    for j in range(len(m[i])):\n",
        "      matrix_freqrel[i][j] = m[i][j] / np.sum(m[:, :])\n",
        "  return matrix_freqrel\n",
        "\n",
        "f = matrice_frequence_relative(K)\n",
        "\n",
        "print(\"\\tmatrice des fréquences relatives \\n\")\n",
        "print('F = \\n', f)"
      ],
      "metadata": {
        "id": "utlKu24Mau67",
        "colab": {
          "base_uri": "https://localhost:8080/"
        },
        "outputId": "b0afb95d-a4f5-4476-91ba-e5ef36b0a9a2"
      },
      "execution_count": null,
      "outputs": [
        {
          "output_type": "stream",
          "name": "stdout",
          "text": [
            "\tmatrice des fréquences relatives \n",
            "\n",
            "F = \n",
            " [[0.02576419 0.02882096 0.03067686 0.00611354 0.01080786 0.05382096\n",
            "  0.00949782 0.00393013]\n",
            " [0.03329694 0.02696507 0.03286026 0.005131   0.01255459 0.06812227\n",
            "  0.00982533 0.00458515]\n",
            " [0.01582969 0.01451965 0.01473799 0.00327511 0.00567686 0.03067686\n",
            "  0.0058952  0.00218341]\n",
            " [0.05131004 0.04366812 0.09563319 0.00174672 0.0080786  0.03406114\n",
            "  0.00676856 0.00229258]\n",
            " [0.00873362 0.01080786 0.00709607 0.00305677 0.00393013 0.01462882\n",
            "  0.00633188 0.00120087]\n",
            " [0.01834061 0.01495633 0.02270742 0.00578603 0.0080786  0.03406114\n",
            "  0.00676856 0.00229258]\n",
            " [0.00174672 0.00120087 0.00087336 0.00021834 0.00065502 0.0029476\n",
            "  0.00087336 0.00021834]\n",
            " [0.00065502 0.00065502 0.00043668 0.00010917 0.00021834 0.00163755\n",
            "  0.00043668 0.00010917]\n",
            " [0.01375546 0.02106987 0.01386463 0.00251092 0.0069869  0.04377729\n",
            "  0.01408297 0.00305677]]\n"
          ]
        }
      ]
    },
    {
      "cell_type": "markdown",
      "source": [
        "* Matrice Profile ligne"
      ],
      "metadata": {
        "id": "kU0XA23kcrPs"
      }
    },
    {
      "cell_type": "code",
      "source": [
        "def calcule_matrice_profile_ligne(m):\n",
        "\n",
        "  pligne = np.zeros(m.shape)\n",
        "\n",
        "  for i in range(len(m)):\n",
        "    for j in range(len(m[i])):\n",
        "      pligne[i][j] = m[i][j] / sum(m[i, :])\n",
        "  return pligne\n",
        "\n",
        "matrice_pligne = calcule_matrice_profile_ligne(f)\n",
        "print(\"\\tmatrice profil ligne XL\\n\")\n",
        "print('XL = \\n', matrice_pligne)\n",
        "\n"
      ],
      "metadata": {
        "id": "_l0waz-laWKW",
        "colab": {
          "base_uri": "https://localhost:8080/"
        },
        "outputId": "5f1e936a-9a9f-45e1-e3fd-8c640d3a1528"
      },
      "execution_count": null,
      "outputs": [
        {
          "output_type": "stream",
          "name": "stdout",
          "text": [
            "\tmatrice profil ligne XL\n",
            "\n",
            "XL = \n",
            " [[0.15206186 0.17010309 0.1810567  0.03608247 0.06378866 0.31765464\n",
            "  0.0560567  0.02319588]\n",
            " [0.17221909 0.13946923 0.16996047 0.02653868 0.06493506 0.35234331\n",
            "  0.05081875 0.02371542]\n",
            " [0.17058824 0.15647059 0.15882353 0.03529412 0.06117647 0.33058824\n",
            "  0.06352941 0.02352941]\n",
            " [0.21066786 0.1792918  0.39264904 0.00717167 0.03316898 0.1398476\n",
            "  0.02779023 0.00941282]\n",
            " [0.15655577 0.19373777 0.12720157 0.05479452 0.0704501  0.26223092\n",
            "  0.11350294 0.02152642]\n",
            " [0.16231884 0.13236715 0.20096618 0.05120773 0.07149758 0.30144928\n",
            "  0.05990338 0.02028986]\n",
            " [0.2        0.1375     0.1        0.025      0.075      0.3375\n",
            "  0.1        0.025     ]\n",
            " [0.15384615 0.15384615 0.1025641  0.02564103 0.05128205 0.38461538\n",
            "  0.1025641  0.02564103]\n",
            " [0.11549038 0.17690192 0.11640697 0.02108158 0.05866178 0.3675527\n",
            "  0.11824015 0.02566453]]\n"
          ]
        }
      ]
    },
    {
      "cell_type": "markdown",
      "source": [
        "* matrice profile colonne\n"
      ],
      "metadata": {
        "id": "wDl12MlNeYBr"
      }
    },
    {
      "cell_type": "code",
      "source": [
        "def calcule_matrice_profile_colonne(m):\n",
        "\n",
        "  pligne = np.zeros(m.shape)\n",
        "\n",
        "  for i in range(len(m)):\n",
        "    for j in range(len(m[i])):\n",
        "      pligne[i][j] = m[i][j] / sum(m[:, j])\n",
        "  return pligne\n",
        "\n",
        "matrice_pcolonne = calcule_matrice_profile_colonne(f)\n",
        "print(\"\\tmatrice profil colonne XC\\n\")\n",
        "print('XC = \\n', matrice_pcolonne)\n"
      ],
      "metadata": {
        "colab": {
          "base_uri": "https://localhost:8080/"
        },
        "id": "AutmmcWnecU0",
        "outputId": "1d7ae207-d893-42dd-a4b2-9d78206b8d35"
      },
      "execution_count": null,
      "outputs": [
        {
          "output_type": "stream",
          "name": "stdout",
          "text": [
            "\tmatrice profil colonne XC\n",
            "\n",
            "XC = \n",
            " [[0.15206186 0.17718121 0.14014963 0.21875    0.18965517 0.18968834\n",
            "  0.15703971 0.1978022 ]\n",
            " [0.19652062 0.16577181 0.15012469 0.18359375 0.22030651 0.24009234\n",
            "  0.16245487 0.23076923]\n",
            " [0.09342784 0.08926174 0.06733167 0.1171875  0.09961686 0.10811851\n",
            "  0.09747292 0.10989011]\n",
            " [0.30283505 0.26845638 0.43690773 0.0625     0.14176245 0.12004617\n",
            "  0.11191336 0.11538462]\n",
            " [0.05154639 0.06644295 0.03241895 0.109375   0.06896552 0.05155829\n",
            "  0.10469314 0.06043956]\n",
            " [0.10824742 0.09194631 0.10374065 0.20703125 0.14176245 0.12004617\n",
            "  0.11191336 0.11538462]\n",
            " [0.01030928 0.00738255 0.00399002 0.0078125  0.01149425 0.01038861\n",
            "  0.01444043 0.01098901]\n",
            " [0.00386598 0.00402685 0.00199501 0.00390625 0.00383142 0.00577145\n",
            "  0.00722022 0.00549451]\n",
            " [0.08118557 0.1295302  0.06334165 0.08984375 0.12260536 0.15429011\n",
            "  0.23285199 0.15384615]]\n"
          ]
        }
      ]
    },
    {
      "cell_type": "markdown",
      "source": [
        "2) Afficher les différentes inerties, les taux d’inerties, et les taux d’inerties cumulés dans\n",
        "un tableau. Commenter les valeurs obtenues tout en donnant la représentation graphique\n",
        "des inerties."
      ],
      "metadata": {
        "id": "RDy3w5wJbgOu"
      }
    },
    {
      "cell_type": "markdown",
      "source": [
        " * Pour ce faire, il faut tout d’abord déterminer la matrice d’inertie VI.Donc,\n",
        "\n",
        "\n",
        "1.   Déterminer la matrice profile ligne transformé  XL'\n",
        "2.   Déterminer la matrice profile ligne transformé centree Y\n",
        "3.   Déterminer la matrice du poid D\n",
        "4.   Calculer la matrice d'inertie VI = Y.T * D * Y\n",
        "* Ensuite, calculer les valeurs propres (inertie)  qui reflètent la quantité\n",
        "d’information portée par les axes correspondant aux valeurs propres.\n",
        "\n"
      ],
      "metadata": {
        "id": "sEwN_lpBe8lC"
      }
    },
    {
      "cell_type": "markdown",
      "source": [
        "\n",
        "\n",
        "1.   Matrice Profile ligne transformé XL'\n",
        "\n",
        "\n"
      ],
      "metadata": {
        "id": "JB6N9SuXiPlO"
      }
    },
    {
      "cell_type": "code",
      "source": [
        "def calcule_matrice_profile_ligne_transforme(m):\n",
        "  XLprimee = np.zeros(m.shape)\n",
        "  for i in range(K.shape[0]):\n",
        "    for j in range(K.shape[1]):\n",
        "      XLprimee[i][j] = m[i][j] / np.sqrt(sum(f[:, j]))\n",
        "  return XLprimee\n",
        "\n",
        "XLprime = calcule_matrice_profile_ligne_transforme(matrice_pligne)\n",
        "print(\"\\tmatrice ligne tranformé XLprime\\n XLprime =\\n\",XLprime )\n",
        "\n"
      ],
      "metadata": {
        "id": "M3hpkiu-iPUg",
        "colab": {
          "base_uri": "https://localhost:8080/"
        },
        "outputId": "64f6ba85-23db-4afc-e87a-82813e844ae7"
      },
      "execution_count": null,
      "outputs": [
        {
          "output_type": "stream",
          "name": "stdout",
          "text": [
            "\tmatrice ligne tranformé XLprime\n",
            " XLprime =\n",
            " [[0.3694215  0.42176138 0.38699482 0.21583609 0.267212   0.59634804\n",
            "  0.22793992 0.16455945]\n",
            " [0.41839179 0.34580637 0.36327749 0.15874756 0.27201432 0.66147072\n",
            "  0.20664115 0.16824523]\n",
            " [0.41442978 0.38796033 0.33947312 0.21112034 0.25626949 0.62062889\n",
            "  0.25832574 0.16692566]\n",
            " [0.51179986 0.44454428 0.83925722 0.0428991  0.13894555 0.2625425\n",
            "  0.1130017  0.06677775]\n",
            " [0.38033909 0.48036228 0.2718836  0.32776674 0.2951169  0.49229848\n",
            "  0.46153001 0.15271575]\n",
            " [0.39433998 0.32819716 0.42954981 0.30631148 0.29950485 0.56592495\n",
            "  0.24358144 0.14394315]\n",
            " [0.48588319 0.34092378 0.21374233 0.14954358 0.31417654 0.63360468\n",
            "  0.40662386 0.17735852]\n",
            " [0.3737563  0.38145319 0.21922291 0.15337803 0.21482156 0.72205661\n",
            "  0.41705011 0.18190617]\n",
            " [0.28057416 0.43861872 0.24881097 0.12610457 0.24573539 0.69002404\n",
            "  0.48079264 0.18207291]]\n"
          ]
        }
      ]
    },
    {
      "cell_type": "markdown",
      "source": [
        "# 2. Matrice profile ligne transformé centree Y.\n",
        "\n",
        ""
      ],
      "metadata": {
        "id": "Sd9TSKa0k5Er"
      }
    },
    {
      "cell_type": "markdown",
      "source": [
        "##2.1 Calcul du centre de gravité"
      ],
      "metadata": {
        "id": "O1oxP8tppjYU"
      }
    },
    {
      "cell_type": "code",
      "source": [
        "def CetreDeGravite(matriceFreqRelative):\n",
        "  G = []\n",
        "\n",
        "  for i in range(matriceFreqRelative.shape[1]):\n",
        "    G.append(np.sqrt(sum(matriceFreqRelative[:, i])))\n",
        "  return G"
      ],
      "metadata": {
        "id": "5AZTUlDioplQ"
      },
      "execution_count": null,
      "outputs": []
    },
    {
      "cell_type": "code",
      "source": [
        "#calculer aussi le centre de gravité g\n",
        "centre_gravite = CetreDeGravite(f)\n",
        "\n",
        "print(\"centre de gravité = \",centre_gravite)"
      ],
      "metadata": {
        "colab": {
          "base_uri": "https://localhost:8080/"
        },
        "id": "dBMNgySglzxc",
        "outputId": "b2b212b2-d319-4bb1-c59b-f8e27d2200ff"
      },
      "execution_count": null,
      "outputs": [
        {
          "output_type": "stream",
          "name": "stdout",
          "text": [
            "centre de gravité =  [0.41162156698900065, 0.4033159499183181, 0.46785303555934754, 0.16717535181142915, 0.23871929030415365, 0.5326665227458438, 0.24592752864406653, 0.14095742489556118]\n"
          ]
        }
      ]
    },
    {
      "cell_type": "code",
      "source": [
        "def calcule_matrice_profile_ligne_transforme_centree(m):\n",
        "\n",
        "  #profile ligne trans centre\n",
        "  mat = np.zeros(m.shape)\n",
        "\n",
        "  for i in range (m.shape[0]):\n",
        "      for j in range (m.shape[1]):\n",
        "          mat[i][j] = m[i][j] - centre_gravite[j]\n",
        "  return mat\n",
        "\n",
        "Y = calcule_matrice_profile_ligne_transforme_centree(XLprime)\n",
        "print(\"\\tmatrice ligne tranformé centree \\n Y =\", Y)\n",
        ""
      ],
      "metadata": {
        "id": "wDHPPVpZhSmv",
        "colab": {
          "base_uri": "https://localhost:8080/"
        },
        "outputId": "77ba9c6d-a140-47ce-f732-af56e67962a4"
      },
      "execution_count": null,
      "outputs": [
        {
          "output_type": "stream",
          "name": "stdout",
          "text": [
            "\tmatrice ligne tranformé centree \n",
            " Y = [[-0.04220007  0.01844543 -0.08085822  0.04866074  0.02849271  0.06368152\n",
            "  -0.01798761  0.02360202]\n",
            " [ 0.00677023 -0.05750958 -0.10457555 -0.00842779  0.03329503  0.1288042\n",
            "  -0.03928638  0.02728781]\n",
            " [ 0.00280821 -0.01535562 -0.12837992  0.04394499  0.0175502   0.08796237\n",
            "   0.01239822  0.02596824]\n",
            " [ 0.1001783   0.04122833  0.37140418 -0.12427625 -0.09977374 -0.27012402\n",
            "  -0.13292583 -0.07417968]\n",
            " [-0.03128248  0.07704633 -0.19596944  0.16059139  0.05639761 -0.04036804\n",
            "   0.21560248  0.01175832]\n",
            " [-0.01728159 -0.07511879 -0.03830322  0.13913613  0.06078556  0.03325843\n",
            "  -0.00234609  0.00298572]\n",
            " [ 0.07426162 -0.06239217 -0.2541107  -0.01763178  0.07545725  0.10093815\n",
            "   0.16069633  0.03640109]\n",
            " [-0.03786527 -0.02186276 -0.24863013 -0.01379732 -0.02389773  0.18939009\n",
            "   0.17112258  0.04094875]\n",
            " [-0.13104741  0.03530277 -0.21904207 -0.04107078  0.0070161   0.15735751\n",
            "   0.23486512  0.04111548]]\n"
          ]
        }
      ]
    },
    {
      "cell_type": "markdown",
      "source": [
        "3. Déterminer la matrice du poid"
      ],
      "metadata": {
        "id": "DLxJb-HBnRfq"
      }
    },
    {
      "cell_type": "code",
      "source": [
        "def FrequenceLigne(matriceFrequenceR):\n",
        "  FreqL = []\n",
        "\n",
        "  for i in range(matriceFrequenceR.shape[0]):\n",
        "    FreqL.append(np.sum(matriceFrequenceR[i, :]))\n",
        "  return np.array(FreqL)\n"
      ],
      "metadata": {
        "id": "WvImsyevYNZB"
      },
      "execution_count": null,
      "outputs": []
    },
    {
      "cell_type": "code",
      "source": [
        "# D'abord , Determiner les frequences ligne marginale\n",
        "freqmarginaleligne = FrequenceLigne(f)\n",
        "print(\"frequence marginale ligne =\",freqmarginaleligne)"
      ],
      "metadata": {
        "colab": {
          "base_uri": "https://localhost:8080/"
        },
        "id": "EdLoLbQznBFp",
        "outputId": "2ac2d987-ec14-4aa5-bd9d-7eab40911b06"
      },
      "execution_count": null,
      "outputs": [
        {
          "output_type": "stream",
          "name": "stdout",
          "text": [
            "frequence marginale ligne = [0.16943231 0.19334061 0.09279476 0.24355895 0.05578603 0.11299127\n",
            " 0.00873362 0.00425764 0.1191048 ]\n"
          ]
        }
      ]
    },
    {
      "cell_type": "code",
      "source": [
        "def MatriceIdentite(MatFreqMarg):\n",
        "  ID = np.zeros((MatFreqMarg.shape[0], MatFreqMarg.shape[0]))\n",
        "\n",
        "  for i in range(MatFreqMarg.shape[0]):\n",
        "    ID[i,i] = MatFreqMarg[i]\n",
        "  return ID"
      ],
      "metadata": {
        "id": "hJJvJfV1ZcRQ"
      },
      "execution_count": null,
      "outputs": []
    },
    {
      "cell_type": "code",
      "source": [
        "D =MatriceIdentite(freqmarginaleligne)\n",
        "print('matrice de poid')\n",
        "print(\"D = \", D)"
      ],
      "metadata": {
        "colab": {
          "base_uri": "https://localhost:8080/"
        },
        "id": "svc9c9VSnK8j",
        "outputId": "84e3ef1c-9aa5-4ee6-9d9b-22ee329f0b17"
      },
      "execution_count": null,
      "outputs": [
        {
          "output_type": "stream",
          "name": "stdout",
          "text": [
            "matrice de poid\n",
            "D =  [[0.16943231 0.         0.         0.         0.         0.\n",
            "  0.         0.         0.        ]\n",
            " [0.         0.19334061 0.         0.         0.         0.\n",
            "  0.         0.         0.        ]\n",
            " [0.         0.         0.09279476 0.         0.         0.\n",
            "  0.         0.         0.        ]\n",
            " [0.         0.         0.         0.24355895 0.         0.\n",
            "  0.         0.         0.        ]\n",
            " [0.         0.         0.         0.         0.05578603 0.\n",
            "  0.         0.         0.        ]\n",
            " [0.         0.         0.         0.         0.         0.11299127\n",
            "  0.         0.         0.        ]\n",
            " [0.         0.         0.         0.         0.         0.\n",
            "  0.00873362 0.         0.        ]\n",
            " [0.         0.         0.         0.         0.         0.\n",
            "  0.         0.00425764 0.        ]\n",
            " [0.         0.         0.         0.         0.         0.\n",
            "  0.         0.         0.1191048 ]]\n"
          ]
        }
      ]
    },
    {
      "cell_type": "markdown",
      "source": [
        "4. Matrice d'inertie VI"
      ],
      "metadata": {
        "id": "ceukQY4woy_C"
      }
    },
    {
      "cell_type": "code",
      "source": [
        "matrice_inertie = np.matmul(np.matmul(Y.T, D), Y)\n",
        "\n",
        "print(\"V = \", matrice_inertie)\n",
        "V = matrice_inertie"
      ],
      "metadata": {
        "colab": {
          "base_uri": "https://localhost:8080/"
        },
        "id": "KBxb6TkCoyHX",
        "outputId": "04a8709a-c529-4134-84e5-c76ac9060a79"
      },
      "execution_count": null,
      "outputs": [
        {
          "output_type": "stream",
          "name": "stdout",
          "text": [
            "V =  [[ 0.00494365  0.00021904  0.01318076 -0.00329987 -0.00286381 -0.00927031\n",
            "  -0.00712378 -0.00258729]\n",
            " [ 0.00021904  0.00228618  0.00354587 -0.00171727 -0.00159097 -0.00393772\n",
            "   0.00085881 -0.0008371 ]\n",
            " [ 0.01318076  0.00354587  0.04719821 -0.01349423 -0.01150286 -0.0331921\n",
            "  -0.02014332 -0.0092329 ]\n",
            " [-0.00329987 -0.00171727 -0.01349423  0.00818631  0.00468858  0.00821492\n",
            "   0.0047007   0.00244448]\n",
            " [-0.00286381 -0.00159097 -0.01150286  0.00468858  0.00345799  0.00812422\n",
            "   0.00385763  0.0022462 ]\n",
            " [-0.00927031 -0.00393772 -0.0331921   0.00821492  0.00812422  0.02579127\n",
            "   0.01186126  0.00684698]\n",
            " [-0.00712378  0.00085881 -0.02014332  0.0047007   0.00385763  0.01186126\n",
            "   0.01418503  0.00352396]\n",
            " [-0.00258729 -0.0008371  -0.0092329   0.00244448  0.0022462   0.00684698\n",
            "   0.00352396  0.00186992]]\n"
          ]
        }
      ]
    },
    {
      "cell_type": "code",
      "source": [
        "# les valeurs et les vecteurs propres\n",
        "valp, vectp = LA.eig(V)\n",
        "valp"
      ],
      "metadata": {
        "id": "qz8-kECDgyHG",
        "colab": {
          "base_uri": "https://localhost:8080/"
        },
        "outputId": "31714fdd-3cbc-4e9c-f95f-66bf5cb05024"
      },
      "execution_count": null,
      "outputs": [
        {
          "output_type": "execute_result",
          "data": {
            "text/plain": [
              "array([ 9.19890142e-02,  8.83629759e-03,  5.32554780e-03,  8.92145263e-04,\n",
              "        8.10798466e-04,  6.39557751e-05, -2.22416497e-18,  7.99088108e-07])"
            ]
          },
          "metadata": {},
          "execution_count": 16
        }
      ]
    },
    {
      "cell_type": "code",
      "source": [
        "valp = sorted(valp, reverse=True)\n",
        "print('les valeurs propres:')\n",
        "print(valp)"
      ],
      "metadata": {
        "colab": {
          "base_uri": "https://localhost:8080/"
        },
        "id": "Xeoo1LThpLkb",
        "outputId": "f303107d-7d86-41aa-d902-d43fe1ca60ce"
      },
      "execution_count": null,
      "outputs": [
        {
          "output_type": "stream",
          "name": "stdout",
          "text": [
            "les valeurs propres:\n",
            "[0.09198901415464537, 0.008836297589223305, 0.005325547800581786, 0.0008921452629229139, 0.0008107984657908477, 6.395577509456184e-05, 7.990881081110915e-07, -2.224164966120532e-18]\n"
          ]
        }
      ]
    },
    {
      "cell_type": "code",
      "source": [
        "print('Les vecteurs propres:')\n",
        "print()\n",
        "print(vectp.T)"
      ],
      "metadata": {
        "colab": {
          "base_uri": "https://localhost:8080/"
        },
        "id": "uTd6Xai2pWOe",
        "outputId": "b10151ec-0cef-46b9-b9f3-89ac288b4dea"
      },
      "execution_count": null,
      "outputs": [
        {
          "output_type": "stream",
          "name": "stdout",
          "text": [
            "Les vecteurs propres:\n",
            "\n",
            "[[-2.05227461e-01 -5.63904589e-02 -7.14580667e-01  2.05135656e-01\n",
            "   1.74853712e-01  5.06961594e-01  3.07867544e-01  1.40104729e-01]\n",
            " [-2.14639224e-01  4.06490582e-01  4.01587257e-03 -2.30119790e-01\n",
            "  -1.85721890e-01 -3.30673676e-01  7.67595907e-01 -5.17975712e-02]\n",
            " [ 6.55968681e-02  3.30915621e-02 -1.67461128e-02  8.44579720e-01\n",
            "   2.30087211e-01 -4.60375434e-01  1.06817945e-01 -6.86361824e-02]\n",
            " [ 8.37129637e-01 -2.19541014e-01 -3.44597953e-01 -2.13269377e-01\n",
            "   2.92308701e-02 -2.07634870e-01  2.03196545e-01 -3.90975567e-02]\n",
            " [ 1.24907832e-01  7.73098343e-01 -3.82612422e-01 -2.57177739e-02\n",
            "  -8.70856297e-02 -1.26196674e-01 -4.46991172e-01  1.27877680e-01]\n",
            " [ 1.46516800e-01 -5.02539019e-02  3.55736133e-04  3.42865095e-01\n",
            "  -9.00825703e-01  2.10345355e-01  4.08393930e-02 -3.24160768e-02]\n",
            " [ 4.11621567e-01  4.03315950e-01  4.67853036e-01  1.67175352e-01\n",
            "   2.38719290e-01  5.32666523e-01  2.45927529e-01  1.40957425e-01]\n",
            " [-1.48748474e-02 -1.39362680e-01  7.10725445e-02 -1.97865124e-04\n",
            "  -7.12827999e-02 -1.86232889e-01  3.69577699e-02  9.66527616e-01]]\n"
          ]
        }
      ]
    },
    {
      "cell_type": "code",
      "source": [
        "V.shape"
      ],
      "metadata": {
        "colab": {
          "base_uri": "https://localhost:8080/"
        },
        "id": "simDUASVrUSE",
        "outputId": "260bd40c-13d8-4da3-dc91-01acbb661f67"
      },
      "execution_count": null,
      "outputs": [
        {
          "output_type": "execute_result",
          "data": {
            "text/plain": [
              "(8, 8)"
            ]
          },
          "metadata": {},
          "execution_count": 19
        }
      ]
    },
    {
      "cell_type": "code",
      "source": [
        "# calcule de la trace\n",
        "Trace = V[0][0] + V[1][1] + V[2][2] + V[3][3] + V[4][4] + V[5][5] + V[6][6] + V[7][7]\n",
        "Trace"
      ],
      "metadata": {
        "colab": {
          "base_uri": "https://localhost:8080/"
        },
        "id": "pji-NuR-qvJu",
        "outputId": "0d5dbd73-68b7-4736-a37a-7ffb00fd40a1"
      },
      "execution_count": null,
      "outputs": [
        {
          "output_type": "execute_result",
          "data": {
            "text/plain": [
              "0.10791855813636685"
            ]
          },
          "metadata": {},
          "execution_count": 20
        }
      ]
    },
    {
      "cell_type": "code",
      "source": [
        "#matrice d'information\n",
        "mat_inf = np.zeros((8, 3))\n",
        "vc = 0\n",
        "l = []\n",
        "valp = sorted(valp, reverse=True)\n",
        "\n",
        "for j in range (mat_inf.shape[1]):\n",
        "    for i in range (mat_inf.shape[0]):\n",
        "        if(j == 0):\n",
        "            mat_inf[i][j] = valp[i]\n",
        "        if(j == 1):\n",
        "            vt = (valp[i] * 100) / Trace\n",
        "            mat_inf[i][j] = vt\n",
        "            vc = vc + vt\n",
        "            l.append(vc)\n",
        "        if(j == 2):\n",
        "            mat_inf[i][j] = l[i]\n",
        "\n",
        "\n",
        "print(tabulate(mat_inf, headers=[\"Valeur propre(inertie)\", \"Taux d'inertie (%)\", \"Taux d’inertie cumulé (%)\"],tablefmt=\"fancy_grid\" ))"
      ],
      "metadata": {
        "id": "AEe06HAbev6V",
        "colab": {
          "base_uri": "https://localhost:8080/"
        },
        "outputId": "74486d93-1934-49f8-9466-6bd52c5f3cf2"
      },
      "execution_count": null,
      "outputs": [
        {
          "output_type": "stream",
          "name": "stdout",
          "text": [
            "╒══════════════════════════╤══════════════════════╤═════════════════════════════╕\n",
            "│   Valeur propre(inertie) │   Taux d'inertie (%) │   Taux d’inertie cumulé (%) │\n",
            "╞══════════════════════════╪══════════════════════╪═════════════════════════════╡\n",
            "│              0.091989    │         85.2393      │                     85.2393 │\n",
            "├──────────────────────────┼──────────────────────┼─────────────────────────────┤\n",
            "│              0.0088363   │          8.18793     │                     93.4272 │\n",
            "├──────────────────────────┼──────────────────────┼─────────────────────────────┤\n",
            "│              0.00532555  │          4.93478     │                     98.362  │\n",
            "├──────────────────────────┼──────────────────────┼─────────────────────────────┤\n",
            "│              0.000892145 │          0.826684    │                     99.1887 │\n",
            "├──────────────────────────┼──────────────────────┼─────────────────────────────┤\n",
            "│              0.000810798 │          0.751306    │                     99.94   │\n",
            "├──────────────────────────┼──────────────────────┼─────────────────────────────┤\n",
            "│              6.39558e-05 │          0.059263    │                     99.9993 │\n",
            "├──────────────────────────┼──────────────────────┼─────────────────────────────┤\n",
            "│              7.99088e-07 │          0.000740455 │                    100      │\n",
            "├──────────────────────────┼──────────────────────┼─────────────────────────────┤\n",
            "│             -2.22416e-18 │         -2.06097e-15 │                    100      │\n",
            "╘══════════════════════════╧══════════════════════╧═════════════════════════════╛\n"
          ]
        }
      ]
    },
    {
      "cell_type": "markdown",
      "source": [
        " **Remarque**\n",
        "\n",
        "**A** partir de ces taux calculés, nous pouvons déduire la dimension du meilleur sous espace\n",
        " ajustant le nuage des individus. Le premier axe principal associé à la plus grande valeur\n",
        " propre recouvre plus que 87.89 % de l’inertie totale cad 87.89% de l'information reside sur cette axe, alors nous pouvons sélectionner un\n",
        " seul axe. D’autre part, nous remarquons que le taux d’inertie expliqué par les deux\n",
        " premiers axes est égal à (lambda 1 + lambda 2\n",
        ") c'est à dire à 94.33% , et donc ça serait intéressant de\n",
        " le prendre aussi.\n",
        " * Ce qui explique de déterminer le sous espace de dimension 2 ajustant le nuage. Pour déterminer ces deux axe, nous calculons les deux vecteur propre normé associé à les deux grandes valeur propre."
      ],
      "metadata": {
        "id": "RCaJ24E8sn0u"
      }
    },
    {
      "cell_type": "code",
      "source": [
        "#Comme le 1èr axe correspond toujours à la plus grande valeur propre, alors le taux\n",
        "#expliqué par le 1èr axe est défini par :\n",
        "Taux1 = mat_inf[0][1]\n",
        "print('le taux d inertie porté sur le premier axe = ',Taux1 )\n",
        "print()\n",
        "#Le taux expliqué par le deuxième axe correspondant à la deuxième grande valeur propre est donné par :\n",
        "Taux2 =  mat_inf[1][1]\n",
        "print('le taux d inertie porté sur le deuxieme axe = ',Taux2)\n",
        "print()\n",
        "print('le taux d inertie totale comulé  = ',mat_inf[1][2])\n",
        "print()\n",
        "#alors les vecteurs propres associes a chaque axe principale sont le premier vecteur et le 3 eme\n",
        "u1 = vectp.T[0]\n",
        "\n",
        "print(\"vecteur propre u1 = \", u1)\n",
        "print()\n",
        "u2 = vectp.T[1]\n",
        "print(\"vecteur propre u2 = \", u2)"
      ],
      "metadata": {
        "colab": {
          "base_uri": "https://localhost:8080/"
        },
        "id": "wQDkpUcdt13o",
        "outputId": "5c5b548b-18c3-4310-d266-ee440f869f21"
      },
      "execution_count": null,
      "outputs": [
        {
          "output_type": "stream",
          "name": "stdout",
          "text": [
            "le taux d inertie porté sur le premier axe =  85.23929131670499\n",
            "\n",
            "le taux d inertie porté sur le deuxieme axe =  8.187931475194175\n",
            "\n",
            "le taux d inertie totale comulé  =  93.42722279189917\n",
            "\n",
            "vecteur propre u1 =  [-0.20522746 -0.05639046 -0.71458067  0.20513566  0.17485371  0.50696159\n",
            "  0.30786754  0.14010473]\n",
            "\n",
            "vecteur propre u2 =  [-0.21463922  0.40649058  0.00401587 -0.23011979 -0.18572189 -0.33067368\n",
            "  0.76759591 -0.05179757]\n"
          ]
        }
      ]
    },
    {
      "cell_type": "markdown",
      "source": [
        "* verifier si les vecteurs propres sont normé"
      ],
      "metadata": {
        "id": "rLsBWMtbu7SB"
      }
    },
    {
      "cell_type": "code",
      "source": [
        "norme_u1 = np.sqrt((u1[0]**2 + u1[1]**2 + u1[2]**2 + u1[3]**2 + u1[4]**2+ u1[5]**2 + u1[6]**2 + u1[7]**2))\n",
        "print(norme_u1)\n",
        "print()\n",
        "norme_u2 = np.sqrt((u2[0]**2 + u2[1]**2 + u2[2]**2 + u2[3]**2 + u2[4]**2+ u2[5]**2 + u2[6]**2 + u2[7]**2))\n",
        "print(norme_u2)"
      ],
      "metadata": {
        "colab": {
          "base_uri": "https://localhost:8080/"
        },
        "id": "IYb3AcXHu6uD",
        "outputId": "f90bb726-0f61-4032-fcb6-77c66ce13cb8"
      },
      "execution_count": null,
      "outputs": [
        {
          "output_type": "stream",
          "name": "stdout",
          "text": [
            "1.0\n",
            "\n",
            "1.0\n"
          ]
        }
      ]
    },
    {
      "cell_type": "markdown",
      "source": [
        "**Nous remarquons que les deux vecteurs propres u1, u2 est de norme egale 1 donc sont normées.**"
      ],
      "metadata": {
        "id": "Wpy4L4gHvZhH"
      }
    },
    {
      "cell_type": "markdown",
      "source": [
        "* La représentation graphique des inerties"
      ],
      "metadata": {
        "id": "R6NqfS2bss1X"
      }
    },
    {
      "cell_type": "code",
      "source": [
        "# representation graphique des valeurs propres\n",
        "plt.plot(sorted(valp, reverse=True))\n",
        "plt.scatter(3,0.001, color = \"r\")"
      ],
      "metadata": {
        "colab": {
          "base_uri": "https://localhost:8080/",
          "height": 282
        },
        "id": "XVSRiOM5qJH9",
        "outputId": "e2d7741f-8339-461e-ca3a-48f2b151f526"
      },
      "execution_count": null,
      "outputs": [
        {
          "output_type": "execute_result",
          "data": {
            "text/plain": [
              "<matplotlib.collections.PathCollection at 0x7effae365410>"
            ]
          },
          "metadata": {},
          "execution_count": 24
        },
        {
          "output_type": "display_data",
          "data": {
            "text/plain": [
              "<Figure size 432x288 with 1 Axes>"
            ],
            "image/png": "[encoded data removed]"
          },
          "metadata": {
            "needs_background": "light"
          }
        }
      ]
    },
    {
      "cell_type": "markdown",
      "source": [
        "3) Déterminer les Facteurs lignes (Composantes principales) correspondant aux axes du\n",
        "nouveau plan. On les note par : 𝜙𝑖."
      ],
      "metadata": {
        "id": "K6i3QcX8tKmJ"
      }
    },
    {
      "cell_type": "code",
      "source": [
        "#Déterminer les composantes principales associées au nuage des profils-lignes\n",
        "#(Facteurs) lignes\n",
        "\n",
        "C1 = np.matmul(Y, u1)\n",
        "C2 = np.matmul(Y, u2)\n",
        "print('C1 = ', C1)\n",
        "print()\n",
        "print('C2 = ', C2)"
      ],
      "metadata": {
        "colab": {
          "base_uri": "https://localhost:8080/"
        },
        "id": "5MJlU2EAskfq",
        "outputId": "c9c5f304-d8b4-418a-87e3-d9258deb0108"
      },
      "execution_count": null,
      "outputs": [
        {
          "output_type": "stream",
          "name": "stdout",
          "text": [
            "C1 =  [ 0.11041733  0.13770107  0.15615962 -0.51948075  0.23247503  0.09088052\n",
            "  0.28518238  0.3340949   0.33207076]\n",
            "\n",
            "C2 =  [-0.0363461  -0.1036561  -0.04164741  0.03500875  0.16805172 -0.08323997\n",
            "  0.03580836  0.07246089  0.1758645 ]\n"
          ]
        }
      ]
    },
    {
      "cell_type": "markdown",
      "source": [
        "4) Afficher une matrice contenant les projections des profils-lignes sur les deux axes"
      ],
      "metadata": {
        "id": "k-3oVbt1wHIW"
      }
    },
    {
      "cell_type": "markdown",
      "source": [
        "* Projections des profils-lignes"
      ],
      "metadata": {
        "id": "qmIAk7JPw0R8"
      }
    },
    {
      "cell_type": "code",
      "source": [
        "#Afficher une matrice contenant les projections des profils-lignes sur chaque axe\n",
        "\n",
        "matrix = np.array([C1, C2])\n",
        "matriceprofileligne = matrix.T\n",
        "print('matrice contenant les projections des profils-lignes sur chaque axe\\n',matriceprofileligne)\n"
      ],
      "metadata": {
        "colab": {
          "base_uri": "https://localhost:8080/"
        },
        "id": "neFhw0XeEZnU",
        "outputId": "eb58b5ea-d2e2-4475-fe89-4d23793c5a6c"
      },
      "execution_count": null,
      "outputs": [
        {
          "output_type": "stream",
          "name": "stdout",
          "text": [
            "matrice contenant les projections des profils-lignes sur chaque axe\n",
            " [[ 0.11041733 -0.0363461 ]\n",
            " [ 0.13770107 -0.1036561 ]\n",
            " [ 0.15615962 -0.04164741]\n",
            " [-0.51948075  0.03500875]\n",
            " [ 0.23247503  0.16805172]\n",
            " [ 0.09088052 -0.08323997]\n",
            " [ 0.28518238  0.03580836]\n",
            " [ 0.3340949   0.07246089]\n",
            " [ 0.33207076  0.1758645 ]]\n"
          ]
        }
      ]
    },
    {
      "cell_type": "code",
      "source": [
        "print('matrice contenant les projections des profils-lignes sur chaque axe\\n')\n",
        "\n",
        "P= ['pligne1', 'pligne2', 'pligne3', 'pligne4', 'pligne5', 'pligne6', 'pligne7', 'pligne8','pligne9']\n",
        "A = np.column_stack((P, C1.T))\n",
        "A = np.column_stack((A, C2.T))\n",
        "print(tabulate(A, headers=[\"premier axe\", \"deuxieme axe\"], tablefmt=\"fancy_grid\"))\n"
      ],
      "metadata": {
        "colab": {
          "base_uri": "https://localhost:8080/"
        },
        "id": "DX2ke34LwH1c",
        "outputId": "363383d2-bad6-4f37-db10-511019333d28"
      },
      "execution_count": null,
      "outputs": [
        {
          "output_type": "stream",
          "name": "stdout",
          "text": [
            "matrice contenant les projections des profils-lignes sur chaque axe\n",
            "\n",
            "╒═════════╤═══════════════╤════════════════╕\n",
            "│         │   premier axe │   deuxieme axe │\n",
            "╞═════════╪═══════════════╪════════════════╡\n",
            "│ pligne1 │     0.110417  │     -0.0363461 │\n",
            "├─────────┼───────────────┼────────────────┤\n",
            "│ pligne2 │     0.137701  │     -0.103656  │\n",
            "├─────────┼───────────────┼────────────────┤\n",
            "│ pligne3 │     0.15616   │     -0.0416474 │\n",
            "├─────────┼───────────────┼────────────────┤\n",
            "│ pligne4 │    -0.519481  │      0.0350087 │\n",
            "├─────────┼───────────────┼────────────────┤\n",
            "│ pligne5 │     0.232475  │      0.168052  │\n",
            "├─────────┼───────────────┼────────────────┤\n",
            "│ pligne6 │     0.0908805 │     -0.08324   │\n",
            "├─────────┼───────────────┼────────────────┤\n",
            "│ pligne7 │     0.285182  │      0.0358084 │\n",
            "├─────────┼───────────────┼────────────────┤\n",
            "│ pligne8 │     0.334095  │      0.0724609 │\n",
            "├─────────┼───────────────┼────────────────┤\n",
            "│ pligne9 │     0.332071  │      0.175864  │\n",
            "╘═════════╧═══════════════╧════════════════╛\n"
          ]
        }
      ]
    },
    {
      "cell_type": "markdown",
      "source": [
        "5) Déterminer les Facteurs colonnes du nuage des profils-colonnes. On les notera par 𝜓𝑖.\n",
        "Afficher les résultats obtenus dans une matrice à deux colonnes."
      ],
      "metadata": {
        "id": "R81KcdBGw5pD"
      }
    },
    {
      "cell_type": "markdown",
      "source": [
        "* Grace aux relations de transition, Nous pouvons définir les nouvelles variables du nuage des profiles colonnes.\n",
        " **comme nous avons fixé un plan, alors : pour i =1, 2, nous avons:**"
      ],
      "metadata": {
        "id": "5iIn5BvcxQsn"
      }
    },
    {
      "cell_type": "code",
      "source": [
        "#Grace aux relations de transition, nous pouvons définir les nouvelles variables du nuage des composantes principales.\n",
        "#Comme nous avons fixé un plan, alors : pour i =1, 2, nous avons:\n",
        "fi1 = (np.sqrt(valp[0])/centre_gravite[0]) * u1\n",
        "fi2 = (np.sqrt(valp[1])/centre_gravite[1]) * u2\n",
        "matricefi =np.array([fi1, fi2])\n",
        "matriceprofilecolonne = matricefi.T\n",
        "print('matrice contenant les projections des profils-lignes sur chaque axe\\n',matriceprofilecolonne)\n"
      ],
      "metadata": {
        "colab": {
          "base_uri": "https://localhost:8080/"
        },
        "id": "i7kNsSLZw6yJ",
        "outputId": "327a3ba0-a7f4-4206-ac43-7c709339e65c"
      },
      "execution_count": null,
      "outputs": [
        {
          "output_type": "stream",
          "name": "stdout",
          "text": [
            "matrice contenant les projections des profils-lignes sur chaque axe\n",
            " [[-0.15121864 -0.05002635]\n",
            " [-0.04155043  0.0947415 ]\n",
            " [-0.52652758  0.00093599]\n",
            " [ 0.151151   -0.05363444]\n",
            " [ 0.12883822 -0.04328654]\n",
            " [ 0.37354671 -0.07707072]\n",
            " [ 0.22684738  0.17890498]\n",
            " [ 0.10323398 -0.01207255]]\n"
          ]
        }
      ]
    },
    {
      "cell_type": "markdown",
      "source": [
        "* Projections des profils-colonnes"
      ],
      "metadata": {
        "id": "zsSKt0Ku3Uz7"
      }
    },
    {
      "cell_type": "code",
      "source": [
        "P= ['PC1', 'PC2', 'PC3', 'PC4', 'PC5', 'PC6', 'PC7', 'PC8']\n",
        "A = np.column_stack((P, fi1.T))\n",
        "A = np.column_stack((A, fi2.T))\n",
        "print(tabulate(A, headers=[\"premier axe\", \"deuxieme axe\"], tablefmt=\"fancy_grid\"))\n",
        "\n"
      ],
      "metadata": {
        "colab": {
          "base_uri": "https://localhost:8080/"
        },
        "id": "Os05dmZhw5QY",
        "outputId": "d5ba62f0-5f9a-4ec9-cc81-173397f154e2"
      },
      "execution_count": null,
      "outputs": [
        {
          "output_type": "stream",
          "name": "stdout",
          "text": [
            "╒═════╤═══════════════╤════════════════╕\n",
            "│     │   premier axe │   deuxieme axe │\n",
            "╞═════╪═══════════════╪════════════════╡\n",
            "│ PC1 │    -0.151219  │   -0.0500264   │\n",
            "├─────┼───────────────┼────────────────┤\n",
            "│ PC2 │    -0.0415504 │    0.0947415   │\n",
            "├─────┼───────────────┼────────────────┤\n",
            "│ PC3 │    -0.526528  │    0.000935987 │\n",
            "├─────┼───────────────┼────────────────┤\n",
            "│ PC4 │     0.151151  │   -0.0536344   │\n",
            "├─────┼───────────────┼────────────────┤\n",
            "│ PC5 │     0.128838  │   -0.0432865   │\n",
            "├─────┼───────────────┼────────────────┤\n",
            "│ PC6 │     0.373547  │   -0.0770707   │\n",
            "├─────┼───────────────┼────────────────┤\n",
            "│ PC7 │     0.226847  │    0.178905    │\n",
            "├─────┼───────────────┼────────────────┤\n",
            "│ PC8 │     0.103234  │   -0.0120726   │\n",
            "╘═════╧═══════════════╧════════════════╛\n"
          ]
        }
      ]
    },
    {
      "cell_type": "markdown",
      "source": [
        "6) Visualiser les deux nuages dans le nouveau plan. Etiqueter les profils-lignes et les\n",
        "profils-colonnes et Utiliser deux couleurs différentes afin de distinguer entre les deux\n",
        "nuages."
      ],
      "metadata": {
        "id": "kNwQyvUcwlV5"
      }
    },
    {
      "cell_type": "code",
      "source": [
        "liste_metier = ['Cadre','Responsable','Technicien','Privé','Agriculteur','Ouvrier','Retraité','SimpleEmployé','Enseignant']\n",
        "liste_dis = ['Psy','G.M','Inf','Phy','Letr','Drt','Maths','Bio']\n",
        "(fig, ax) = plt.subplots(figsize = (18,18))\n",
        "ax.set_xlim(-2,2)\n",
        "ax.set_ylim(-2,2)\n",
        "\n",
        "for i in range(0, fi1.shape[0]):\n",
        "  text_dis = liste_dis[i]\n",
        "  plt.text(fi1[i] + 0.05, fi2[i] +0.05, text_dis)\n",
        "plt.scatter(fi1, fi2,c='b', marker=\"o\" , label=\"Dis\")\n",
        "an = np.linspace(0, 2*np.pi, 100 )\n",
        "\n",
        "#plt.plot(np.cos(an), np.sin(an))\n",
        "plt.axis('equal')\n",
        "#ajouter les axes\n",
        "plt.plot([-1,1],[0,0],color='red',linestyle='-',linewidth=1)\n",
        "plt.plot([0,0],[-1,1],color='red',linestyle='-',linewidth=1)\n",
        "for i in range(0, C1.shape[0]):\n",
        "  text_metier = liste_metier[i]\n",
        "  plt.text(C1[i] + 0.05, C2[i] +0.05,text_metier)\n",
        "\n",
        "plt.scatter(C1, C2,c='green', marker=\"o\", label=\"metier\" )\n",
        "plt.legend()\n",
        "\n",
        "plt.show()\n"
      ],
      "metadata": {
        "colab": {
          "base_uri": "https://localhost:8080/",
          "height": 1000
        },
        "id": "Wgt3JJ6cwBZm",
        "outputId": "ef7c2e71-1cfe-4ea3-f23f-1db36757109f"
      },
      "execution_count": null,
      "outputs": [
        {
          "output_type": "display_data",
          "data": {
            "text/plain": [
              "<Figure size 1296x1296 with 1 Axes>"
            ],
            "image/png": "[encoded data removed]"
          },
          "metadata": {
            "needs_background": "light"
          }
        }
      ]
    },
    {
      "cell_type": "markdown",
      "source": [
        "7) Etudier la qualité de représentation des profils-lignes dans le nouveau plan ainsi que\n",
        "leurs contributions à chaque axe factoriel. Donner les résultats dans deux matrices\n",
        "différentes à deux colonnes. Chaque colonne represente un axe. Interpréter les deux\n",
        "axes."
      ],
      "metadata": {
        "id": "t4mm8s1mMDgl"
      }
    },
    {
      "cell_type": "markdown",
      "source": [
        "* La qualite de représentation des profils lignes"
      ],
      "metadata": {
        "id": "p5UJbEQqMIz6"
      }
    },
    {
      "cell_type": "code",
      "source": [
        "qualite= np.sum(C1**2 / np.sqrt(matriceprofileligne[:, 0]**2 + matriceprofileligne[:, 1]**2)) + np.sum(C2**2 / np.sqrt(matriceprofileligne[:, 0]**2 + matriceprofileligne[:, 1]**2))\n",
        "print(\"La qualite de représentation des profils lignes = \",qualite)\n"
      ],
      "metadata": {
        "colab": {
          "base_uri": "https://localhost:8080/"
        },
        "id": "UxUlQYgKErkw",
        "outputId": "c344f07b-d927-4737-f0dc-942f5fa62013"
      },
      "execution_count": null,
      "outputs": [
        {
          "output_type": "stream",
          "name": "stdout",
          "text": [
            "La qualite de représentation des profils lignes =  2.386022087771448\n"
          ]
        }
      ]
    },
    {
      "cell_type": "markdown",
      "source": [
        "* la qualité de contributions des profiles lignes à chaque axe factoriel\n",
        "\n"
      ],
      "metadata": {
        "id": "6jOPclwEMxUG"
      }
    },
    {
      "cell_type": "code",
      "source": [
        "mat_Qualite_Contr_Ligne = np.zeros((9, 2))\n",
        "\n",
        "\n",
        "\n",
        "for j in range (mat_Qualite_Contr_Ligne .shape[1]):\n",
        "\n",
        "  for i in range (mat_Qualite_Contr_Ligne .shape[0]):\n",
        "      if(j == 0):\n",
        "        mat_Qualite_Contr_Ligne [i][j] = ((sum(f[:, j]) )* (matriceprofileligne[i][j] **2 ))/ valp[0]\n",
        "      if(j == 1):\n",
        "\n",
        "        ct = ((sum(f[:, j])) * (matriceprofileligne[i][j] **2 ))/ valp[1]\n",
        "        mat_Qualite_Contr_Ligne [i][j] = ct\n",
        "\n",
        "print('La qualité de contributions des profiles lignes à chaque axe factoriel: \\n')\n",
        "print(tabulate(mat_Qualite_Contr_Ligne , headers=[\"axe 1\", \"axe 2\"], tablefmt=\"fancy_grid\"))"
      ],
      "metadata": {
        "id": "3DbKxfoJM22Y",
        "colab": {
          "base_uri": "https://localhost:8080/"
        },
        "outputId": "c18e7ed0-c75b-498f-f978-c34f4e087b20"
      },
      "execution_count": null,
      "outputs": [
        {
          "output_type": "stream",
          "name": "stdout",
          "text": [
            "La qualité de contributions des profiles lignes à chaque axe factoriel: \n",
            "\n",
            "╒═══════════╤═══════════╕\n",
            "│     axe 1 │     axe 2 │\n",
            "╞═══════════╪═══════════╡\n",
            "│ 0.0224561 │ 0.0243185 │\n",
            "├───────────┼───────────┤\n",
            "│ 0.0349249 │ 0.197793  │\n",
            "├───────────┼───────────┤\n",
            "│ 0.0449157 │ 0.0319298 │\n",
            "├───────────┼───────────┤\n",
            "│ 0.497049  │ 0.0225618 │\n",
            "├───────────┼───────────┤\n",
            "│ 0.0995435 │ 0.519884  │\n",
            "├───────────┼───────────┤\n",
            "│ 0.0152125 │ 0.127551  │\n",
            "├───────────┼───────────┤\n",
            "│ 0.149798  │ 0.0236042 │\n",
            "├───────────┼───────────┤\n",
            "│ 0.205589  │ 0.0966558 │\n",
            "├───────────┼───────────┤\n",
            "│ 0.203105  │ 0.569347  │\n",
            "╘═══════════╧═══════════╛\n"
          ]
        }
      ]
    },
    {
      "cell_type": "markdown",
      "source": [
        "8) De même, Etudier la qualité de représentation des profils-colonnes dans le nouveau\n",
        "plan ainsi que leurs contributions à chaque axe factoriel. Donner les résultats dans deux\n",
        "matrices différentes à deux colonnes. Chaque colonne represente un axe."
      ],
      "metadata": {
        "id": "jLvM5exsM9Bk"
      }
    },
    {
      "cell_type": "markdown",
      "source": [
        "* la qualité de représentation des profils-colonnes dans le nouveau plan"
      ],
      "metadata": {
        "id": "M_Cq4G79NF-l"
      }
    },
    {
      "cell_type": "code",
      "source": [
        "qualite_c = np.sum(fi1**2 / (np.sqrt(matriceprofilecolonne[:, 0]**2 + matriceprofilecolonne[:, 1]**2)*)) + np.sum(fi2**2 /(np.sqrt(matriceprofilecolonne[:, 0]**2 + matriceprofilecolonne[:, 1]**2))**2)\n",
        "print(\"La qualite de représentation des profils colonnes = \",qualite_c)\n"
      ],
      "metadata": {
        "colab": {
          "base_uri": "https://localhost:8080/"
        },
        "id": "iesCAaFzNE3G",
        "outputId": "663ef371-dc60-4f8c-a349-328c42e6c01d"
      },
      "execution_count": null,
      "outputs": [
        {
          "output_type": "stream",
          "name": "stdout",
          "text": [
            "La qualite de représentation des profils colonnes =  8.0\n"
          ]
        }
      ]
    },
    {
      "cell_type": "markdown",
      "source": [
        "* la qualité de contributions des profiles colonnes à chaque axe factoriel\n"
      ],
      "metadata": {
        "id": "dvXX8nsmOOGq"
      }
    },
    {
      "cell_type": "code",
      "source": [
        "mat_Qualite_Contr_Col = np.zeros((8, 2))\n",
        "\n",
        "\n",
        "\n",
        "for j in range (mat_Qualite_Contr_Col .shape[1]):\n",
        "\n",
        "  for i in range (mat_Qualite_Contr_Col .shape[0]):\n",
        "      if(j == 0):\n",
        "        mat_Qualite_Contr_Col [i][j] = ((sum(f[:, j]) )* (matriceprofilecolonne[i][j] **2 ))/ valp[0]\n",
        "      if(j == 1):\n",
        "\n",
        "        ctc = ((sum(f[:, j])) * (matriceprofilecolonne[i][j] **2 ))/ valp[1]\n",
        "        mat_Qualite_Contr_Col [i][j] = ctc\n",
        "\n",
        "print('La qualité de contributions des profiles colonnes à chaque axe factoriel:\\n')\n",
        "print(tabulate(mat_Qualite_Contr_Col , headers=[\"axe 1\", \"axe 2\"], tablefmt=\"fancy_grid\"))\n",
        "\n",
        "\n"
      ],
      "metadata": {
        "id": "I7jLDMsPOQ7e",
        "colab": {
          "base_uri": "https://localhost:8080/"
        },
        "outputId": "cba5c598-ae3c-4cf4-97c6-dce6ce760aee"
      },
      "execution_count": null,
      "outputs": [
        {
          "output_type": "stream",
          "name": "stdout",
          "text": [
            "La qualité de contributions des profiles colonnes à chaque axe factoriel:\n",
            "\n",
            "╒════════════╤═════════════╕\n",
            "│      axe 1 │       axe 2 │\n",
            "╞════════════╪═════════════╡\n",
            "│ 0.0421183  │ 0.04607     │\n",
            "├────────────┼─────────────┤\n",
            "│ 0.00317988 │ 0.165235    │\n",
            "├────────────┼─────────────┤\n",
            "│ 0.510626   │ 1.61272e-05 │\n",
            "├────────────┼─────────────┤\n",
            "│ 0.0420806  │ 0.0529551   │\n",
            "├────────────┼─────────────┤\n",
            "│ 0.0305738  │ 0.0344926   │\n",
            "├────────────┼─────────────┤\n",
            "│ 0.25701    │ 0.109345    │\n",
            "├────────────┼─────────────┤\n",
            "│ 0.0947824  │ 0.589203    │\n",
            "├────────────┼─────────────┤\n",
            "│ 0.0196293  │ 0.00268299  │\n",
            "╘════════════╧═════════════╛\n"
          ]
        }
      ]
    },
    {
      "cell_type": "code",
      "source": [],
      "metadata": {
        "id": "5GI7y7MmtZTD"
      },
      "execution_count": null,
      "outputs": []
    }
  ]
}